{
 "cells": [
  {
   "cell_type": "markdown",
   "id": "092d7e5d",
   "metadata": {},
   "source": [
    "# Python study\n",
    "### 기본문법 1일차"
   ]
  },
  {
   "cell_type": "code",
   "execution_count": null,
   "id": "77e19fc0",
   "metadata": {},
   "outputs": [],
   "source": [
    "import keyword\n",
    "print(keyword.kwlist)"
   ]
  },
  {
   "cell_type": "code",
   "execution_count": null,
   "id": "69621119",
   "metadata": {},
   "outputs": [],
   "source": [
    "# 주석처리\n",
    "'''아'''"
   ]
  },
  {
   "cell_type": "code",
   "execution_count": null,
   "id": "f55a90b5",
   "metadata": {},
   "outputs": [],
   "source": [
    "\"아ㅇ\""
   ]
  },
  {
   "cell_type": "code",
   "execution_count": null,
   "id": "f1707744",
   "metadata": {},
   "outputs": [],
   "source": [
    "\"hello\"+'world'"
   ]
  },
  {
   "cell_type": "code",
   "execution_count": null,
   "id": "e45783aa",
   "metadata": {},
   "outputs": [],
   "source": [
    "print('test print')\n",
    "print(10+30)\n",
    "print(\"연산식 : \",10+20)\n",
    "print(\"여러 자료 출력 : \", 10, 20, ' end')\n",
    "print() # 빈 라인 출력\n",
    "print(\"test\", \"123\", sep='#')"
   ]
  },
  {
   "cell_type": "code",
   "execution_count": null,
   "id": "5c361d1a",
   "metadata": {},
   "outputs": [],
   "source": [
    "# dkfl (ctrl / 누르면 그 줄 주석처리)"
   ]
  },
  {
   "cell_type": "markdown",
   "id": "15a3bafb",
   "metadata": {},
   "source": [
    "### 자료형 확인"
   ]
  },
  {
   "cell_type": "code",
   "execution_count": null,
   "id": "5f419fc0",
   "metadata": {},
   "outputs": [],
   "source": [
    "print(type('문자열'))\n",
    "print(type(10))\n",
    "print(type(True))\n",
    "print(type(10.3))\n",
    "print(type('10'))\n"
   ]
  },
  {
   "cell_type": "code",
   "execution_count": null,
   "id": "e56acd96",
   "metadata": {},
   "outputs": [],
   "source": [
    "\"\"\"안녕하세요\"\"\""
   ]
  },
  {
   "cell_type": "code",
   "execution_count": null,
   "id": "107731b8",
   "metadata": {},
   "outputs": [],
   "source": [
    "print(\"안녕하세요\") # \"을 표현하고자 하는 경우 에러발생\n",
    "# \"을 출력하고자 할때 \"을 약속된 문자가 아닌 일반 문자로 인식\n",
    "# \\\" >> \\뒤에 오는 \"은 일반 문자로 인식한다\n",
    "print(\"\\\"안녕하세요\\\"\")\n",
    "# \\ 는 이스케이프문자, \\n:줄바꿈, \\t : tab 띄움"
   ]
  },
  {
   "cell_type": "code",
   "execution_count": null,
   "id": "f9bfe055",
   "metadata": {},
   "outputs": [],
   "source": [
    "# 여러 줄 문자열 만들기\n",
    "print(\"동해물과 백두산이 마르고 닳도록\\n하느님이 보우하사 우리나라 만세\")\n",
    "print(\"\"\"동해물과 백두산이 마르고 닳도록\n",
    "하느님이 보우하사 우리나라 만세\"\"\")"
   ]
  },
  {
   "cell_type": "code",
   "execution_count": null,
   "id": "0df3150f",
   "metadata": {},
   "outputs": [],
   "source": [
    "# 문자열 연산자 : +, *\n",
    "print(\"test\" + \" string\") # test string\n",
    "print(\"test \" * 3) # test test test"
   ]
  },
  {
   "cell_type": "code",
   "execution_count": null,
   "id": "13f3222b",
   "metadata": {},
   "outputs": [],
   "source": [
    "# 문자열 슬라이싱\n",
    "print(\"hello test string\"[0]) # h 출력\n",
    "print(\"hello test string\"[-1]) # g 출력\n",
    "print(\"hello test string\"[1:4]) # ell 출력\n",
    "print(\"hello test string\"[ :-3]) # hello test str 출력\n",
    "print(\"hello test string\"[6: ]) # test string\n",
    "# print(\"hello test string\"[20]) # error\n",
    "\n",
    "print(len(\"hello test string\")) # 17개의 공간"
   ]
  },
  {
   "cell_type": "code",
   "execution_count": null,
   "id": "8edac261",
   "metadata": {},
   "outputs": [],
   "source": [
    "# input 함수\n",
    "string = input(\"input Data >>\")"
   ]
  },
  {
   "cell_type": "code",
   "execution_count": null,
   "id": "bc45dcc0",
   "metadata": {},
   "outputs": [],
   "source": [
    "string"
   ]
  },
  {
   "cell_type": "code",
   "execution_count": null,
   "id": "95bc8ad2",
   "metadata": {},
   "outputs": [],
   "source": [
    "string = input(\"input Data >>\")"
   ]
  },
  {
   "cell_type": "code",
   "execution_count": null,
   "id": "784705c0",
   "metadata": {},
   "outputs": [],
   "source": [
    "string"
   ]
  },
  {
   "cell_type": "code",
   "execution_count": null,
   "id": "2802751b",
   "metadata": {},
   "outputs": [],
   "source": [
    "string_a = int(string)\n",
    "string_b = string_a + 20\n",
    "\n",
    "print(\"answer : \", string_b)"
   ]
  },
  {
   "cell_type": "code",
   "execution_count": null,
   "id": "9c2b385c",
   "metadata": {},
   "outputs": [],
   "source": [
    "# 숫자를 두번 입력받아 두 숫자의 합을 구해\n",
    "first_num = int(input(\"1st number :\"))\n",
    "second_num = int(input(\"2nd number :\"))\n",
    "\n"
   ]
  },
  {
   "cell_type": "code",
   "execution_count": null,
   "id": "5bcdad41",
   "metadata": {},
   "outputs": [],
   "source": [
    "sum_num = first_num + second_num\n",
    "print(\"Sum : \", sum_num)"
   ]
  },
  {
   "cell_type": "markdown",
   "id": "e94955c0",
   "metadata": {},
   "source": [
    "# 문자열"
   ]
  },
  {
   "cell_type": "markdown",
   "id": "5c0c1a6c",
   "metadata": {},
   "source": [
    "### format 함수"
   ]
  },
  {
   "cell_type": "code",
   "execution_count": null,
   "id": "2e641c0a",
   "metadata": {},
   "outputs": [],
   "source": [
    "b_str = 'abcd test'\n"
   ]
  },
  {
   "cell_type": "code",
   "execution_count": null,
   "id": "73483233",
   "metadata": {},
   "outputs": [],
   "source": [
    "\"{}\".format(10)\n",
    "\"{}{}\".format(10, 20)\n",
    "\"{}{}{}{}{}\".format(101,202,303,404,505)"
   ]
  },
  {
   "cell_type": "code",
   "execution_count": null,
   "id": "1caef9d2",
   "metadata": {},
   "outputs": [],
   "source": [
    "# 문자열 관련 함수 : format\n",
    "a_str = \"{} test {}\".format(10,'add')\n",
    "print(a_str)\n",
    "print(\"{:d} {:f} {:.3f}\".format(10, 10.0, 10.0))\n",
    "# {:d}  {:5d}  {:05d}  "
   ]
  },
  {
   "cell_type": "markdown",
   "id": "bfbf9d49",
   "metadata": {},
   "source": [
    "#### format() 함수의 다양한 형태"
   ]
  },
  {
   "cell_type": "code",
   "execution_count": null,
   "id": "96114e49",
   "metadata": {},
   "outputs": [],
   "source": [
    "# format() 함수로 숫자를 문자열로 변환하기\n",
    "format_a = \"{}만원\".format(5000)\n",
    "format_b = \"파이썬 열공하여 첫 연봉 {}만원 만들기\".format(5000)\n",
    "format_c = \"{} {} {}\".format(3000, 4000, 5000)\n",
    "format_d = \"{} {} {}\".format(1, \"문자열\", True)\n",
    "\n",
    "# 출력하기\n",
    "print(format_a)\n",
    "print(format_b)\n",
    "print(format_c)\n",
    "print(format_d)\n"
   ]
  },
  {
   "cell_type": "code",
   "execution_count": null,
   "id": "f229aa5c",
   "metadata": {},
   "outputs": [],
   "source": [
    "# 정수\n",
    "output_a=\"{:d}\".format(52)\n",
    "\n",
    "# 특정 칸에 출력하기\n",
    "output_b=\"{:5d}\".format(52)     # 5칸\n",
    "output_c=\"{:10d}\".format(52)    # 10칸\n",
    "\n",
    "# 빈칸을 0으로 채우기\n",
    "output_d=\"{:05d}\".format(52)    # 양수\n",
    "output_e=\"{:05d}\".format(-52)   # 음수\n",
    "\n",
    "print(\"# 기본\")\n",
    "print(output_a)\n",
    "print(\"# 특정 칸에 출력하기\")\n",
    "print(output_b)\n",
    "print(output_c)\n",
    "print(\"# 빈 칸을 0으로 채우기\")\n",
    "print(output_d)\n",
    "print(output_e)\n"
   ]
  },
  {
   "cell_type": "markdown",
   "id": "4c97d08c",
   "metadata": {},
   "source": [
    "#### 문자열 관련함수"
   ]
  },
  {
   "cell_type": "markdown",
   "id": "e703a4ab",
   "metadata": {},
   "source": [
    "upper(), lower(), strip(), lstrip(), rstrip()"
   ]
  },
  {
   "cell_type": "code",
   "execution_count": null,
   "id": "4f2f5cbd",
   "metadata": {
    "scrolled": true
   },
   "outputs": [],
   "source": [
    "a_str =\"  test str 10 num Abc test DEf  \"\n",
    "print(a_str.upper()) # 모두 대문자로\n",
    "print(a_str.lower()) # 모두 소문자로\n",
    "print(\"/{}/\".format(a_str.strip())) # 양쪽의 공백 제거\n",
    "print(\"/{}/\".format(a_str.lstrip())) # 왼쪽의 공백 제거\n",
    "print(\"/{}/\".format(a_str.rstrip())) # 오른쪽의 공백 제거\n",
    "\n",
    "# 문자열 구성 파악하기 is---\n",
    "print(a_str.strip()[:4].isalnum()) # True\n",
    "# isalnum() : 문자열이 알파펫 또는 숫자로만 구성되어 있는지 확인"
   ]
  },
  {
   "cell_type": "code",
   "execution_count": null,
   "id": "df70b475",
   "metadata": {},
   "outputs": [],
   "source": [
    "print(a_str.find('test')) # 인덱스 반환\n",
    "print(a_str.rfind('test')) # 인덱스 반환\n",
    "\n",
    "# in 함수 : '문자'in \"문자열\" -> 문자가 문자열에 존재하면 True\n",
    "print('test' in a_str) # True"
   ]
  },
  {
   "cell_type": "code",
   "execution_count": null,
   "id": "04b1633a",
   "metadata": {},
   "outputs": [],
   "source": [
    "a_str.strip()\n",
    "a_str.strip()[ : 4]"
   ]
  },
  {
   "cell_type": "code",
   "execution_count": null,
   "id": "4f6d06f3",
   "metadata": {},
   "outputs": [],
   "source": [
    "# format, lower, upper, strip, lstrip, rstrip, is—-, in, find, rfind,\n",
    "# string.함수명()\n",
    "# split() : 문자열 자르기 >> 리스트로 반환\n",
    "a_str.split()\n",
    "a_list = a_str.split()\n",
    "print(a_list, \"\\n\",type(a_list), type(a_list[0]))\n",
    "# a_list의 처음 자료를 검색 후 처음 자료의 첫 글자 출력\n",
    "a_list[0][0]"
   ]
  },
  {
   "cell_type": "code",
   "execution_count": null,
   "id": "d255e279",
   "metadata": {},
   "outputs": [],
   "source": [
    "# a_list의 처음 자료를 검색 후 처음 자료의 첫 글자 출력\n",
    "a_list[3][1:-1]"
   ]
  },
  {
   "cell_type": "markdown",
   "id": "0eac3cb5",
   "metadata": {},
   "source": [
    "#### 두 수를 입력받아 두 수의 합과 차를 구하세요"
   ]
  },
  {
   "cell_type": "code",
   "execution_count": null,
   "id": "0a2ba2bf",
   "metadata": {},
   "outputs": [],
   "source": [
    "input_data = input(\"두 수 입력 : \").split()\n",
    "input_num1 = int(input_data[0])\n",
    "input_num2 = int(input_data[1])\n",
    "\n",
    "print(\"{}+{}={}\".format(input_num1, input_num2, input_num1+input_num2))\n",
    "print(\"{}-{}={}\".format(input_num1, input_num2, input_num1-input_num2))"
   ]
  },
  {
   "cell_type": "markdown",
   "id": "1b98662a",
   "metadata": {},
   "source": [
    "## 예제풀이\n",
    "#### 1. 영문자를 입력받아 변수에 저장한 후 대문자, 소문자로 출력하세요\n",
    "#### 2. salpha 가 true 인지 확인하세요\n",
    "#### 3. 숫자를 입력받아 변수에 저장한 후 isdigit을 확인하세요\n",
    "#### 4. 문자를 10개 입력받아 변수에 저장한 후 5번째 문자열의 처음 문자만 출력\n",
    "#### 5. 문자열의 길이를 출력하세요\n",
    "#### 6. 문자에 'test'가 입력 되었는지 확인하세요\n",
    "#### 7. 숫자 세개를 입력 받아 처음 숫자와 마지막 숫자의 합을, 두번째 숫자와 마지막 숫자의 곱을 구하세요"
   ]
  },
  {
   "cell_type": "code",
   "execution_count": null,
   "id": "84feef08",
   "metadata": {},
   "outputs": [],
   "source": [
    "# 1. 영문자를 입력받아 변수에 저장한 후 대문자, 소문자로 출력하세요\n",
    "\n",
    "input_aldata = input(\"alpha :\")\n",
    "\n",
    "print(\"Upper >> {}\".format(input_aldata.upper()))\n",
    "print(\"Upper >> {}\".format(input_aldata.upper()))"
   ]
  },
  {
   "cell_type": "code",
   "execution_count": null,
   "id": "8df912e5",
   "metadata": {},
   "outputs": [],
   "source": [
    "# 2. isalpha 가 true 인지 확인하세요\n",
    "print(input_aldata.isalpha())"
   ]
  },
  {
   "cell_type": "code",
   "execution_count": null,
   "id": "a7c4cbd4",
   "metadata": {},
   "outputs": [],
   "source": [
    "# 3. 숫자를 입력받아 변수에 저장한 후 isdigit을 확인하세요\n",
    "input_num= input(\"input digit : \")\n",
    "print(\"number is {}\".format(input_num.isdigit()))"
   ]
  },
  {
   "cell_type": "code",
   "execution_count": null,
   "id": "9d71b92e",
   "metadata": {},
   "outputs": [],
   "source": [
    "# 4. 문자를 5개 입력받아 변수에 저장한 후 3번째 문자열의 처음 문자만 출력\n",
    "input_str = input(\"input string : \").split()\n",
    "print(\"3번째 문자열의 처음 문자 : {}\".format(input_str[2][0]))\n",
    "# 3번째 문자의 마지막 문자만 출력\n",
    "print(\"3번째 문자열의 마지막 문자 : {}\".format(input_str[-1][1]))\n",
    "\n",
    "# 5. 문자열의 길이를 출력하세요\n",
    "print(len(input_str[0]))"
   ]
  },
  {
   "cell_type": "code",
   "execution_count": null,
   "id": "7abad0e0",
   "metadata": {},
   "outputs": [],
   "source": [
    "#6. 문자에 'test'가 입력 되었는지 확인하세요\n",
    "print(\"test\" in input_str[0])"
   ]
  },
  {
   "cell_type": "code",
   "execution_count": null,
   "id": "eca99feb",
   "metadata": {},
   "outputs": [],
   "source": [
    "# 7. 숫자 세개를 입력 받아 처음 숫자와 마지막 숫자의 합을, \n",
    "# 두번째 숫자와 마지막 숫자의 곱을 구하세요\n",
    "\n",
    "input_num = input(\"input 3 number : \").split()\n",
    "num1 = int(input_num[0])\n",
    "num2 = int(input_num[1])\n",
    "num3 = int(input_num[2])\n",
    "print(\"{}+{}={}\".format(num1, num3, num1+num3))\n",
    "print(\"{}*{}={}\".format(num1, num3, num1*num3))"
   ]
  },
  {
   "cell_type": "code",
   "execution_count": null,
   "id": "78faef0a",
   "metadata": {},
   "outputs": [],
   "source": []
  }
 ],
 "metadata": {
  "kernelspec": {
   "display_name": "Python 3 (ipykernel)",
   "language": "python",
   "name": "python3"
  },
  "language_info": {
   "codemirror_mode": {
    "name": "ipython",
    "version": 3
   },
   "file_extension": ".py",
   "mimetype": "text/x-python",
   "name": "python",
   "nbconvert_exporter": "python",
   "pygments_lexer": "ipython3",
   "version": "3.9.7"
  }
 },
 "nbformat": 4,
 "nbformat_minor": 5
}
